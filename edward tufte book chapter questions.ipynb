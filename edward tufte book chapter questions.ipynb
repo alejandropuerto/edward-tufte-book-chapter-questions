{
 "cells": [
  {
   "cell_type": "markdown",
   "metadata": {},
   "source": [
    "# The visual display of quantitative information\n",
    "## by Edward Tufte"
   ]
  },
  {
   "cell_type": "markdown",
   "metadata": {},
   "source": [
    "### Chapter 1: Graphical Excellence"
   ]
  },
  {
   "cell_type": "markdown",
   "metadata": {},
   "source": [
    "<ol>\n",
    "    <li><strong>In statistical graphics, what excellence consists of?</strong></li>\n",
    "        Consists of complex ideas communicated with clarity, precision, and efficiency.<br><br>\n",
    "    <li><strong>Mention two things that a graphical display should do:</strong></li>\n",
    "        - show the data.<br>\n",
    "        - induce the viewer to think the susbtance rather than about methodology, graphic design or something else<br>\n",
    "        - avoid distorting what the data have to say<br>\n",
    "        - present many numbers in a small space<br>\n",
    "        - make large data sets coherent<br>\n",
    "        - encourage the eye to compare different pieces of data<br>\n",
    "        - reveal the data at several levels of detail, from a broad overview to the fine structure<br>\n",
    "        - serve a reasonably clear purpose: description, exploration, tabulation, or decoration<br>\n",
    "        - be closely integrated with the statistical and verbal descriptions of a data set<br><br>\n",
    "    <li><strong>What are the fundamental graphical designs?</strong></li>\n",
    "        - data maps<br>\n",
    "        - time-series<br>\n",
    "        - space-time narrative designs<br>\n",
    "        - relational graphics<br><br>\n",
    "    <li><strong>Which are the most extensive data maps that display statistical information in a powerful way?</strong></li>\n",
    "        The cancer atlas, and the count of the galaxies.<br><br>\n",
    "    <li><strong>What gives the natural ordering of the time scale to the design of the time-series plot?</strong></li>\n",
    "        A strength and efficiency of interpretation found in no other graphic arrangement.<br><br>\n",
    "    <li><strong>For what is best the time-series plot?</strong></li>\n",
    "        For big data sets with real variability.<br><br>\n",
    "    <li><strong>What is the problem with time-series?</strong></li>\n",
    "        That the simple passage of time is not a good explanaroty variable.<br><br>\n",
    "    <li><strong>What is the solution to the problem of time series?</strong></li>\n",
    "        The addition of more variables, such as spatial dimensions, into the graphic design.<br><br>\n",
    "    <li><strong>What is graphical excellence?</strong></li>\n",
    "        It is the well-designed presentation of interesting data - a matter of substance, of statistics, and of design.<br><br>\n",
    "</ol>"
   ]
  },
  {
   "cell_type": "markdown",
   "metadata": {},
   "source": [
    "### Chapter 2: Graphical Integrity"
   ]
  },
  {
   "cell_type": "markdown",
   "metadata": {},
   "source": [
    "<ol>\n",
    "    <li><strong>How a graphic does not distort?</strong></li>\n",
    "        When the visual representation of the data is consistent with the numerical representation.<br><br>\n",
    "    <li><strong>When do tables outperform graphics?</strong></li>\n",
    "        When reporting on small data sets of 20 numbers or less.<br><br>\n",
    "    <li><strong>How is measured the violation of the first principle that leads to graphic misrepresentation?</strong></li>\n",
    "        It is measured by the Lie Factor, which is the size of effect shown in graphic divided by the size of effect in data.<br><br>\n",
    "    <li><strong>What is the recommendation about the numbers of dimensions?</strong></li>\n",
    "        That the number of variable dimensions that wants to be presented should not exceed the number of dimensions in the data.<br><br>\n",
    "    <li><strong>Mention two of the six principles that enhace graphical integrity:</strong></li>\n",
    "        - The representation of numbers should be directly proportional to the numerical quantities represented.<br>\n",
    "        - Clear, detailed, and thorough labeling should be used to defeat graphical distortion and ambiguity. Write out explanations of the data on the graphic itself. Label important events in the data.<br>\n",
    "        - Show data variation, not design variation.<br>\n",
    "        - In time-series displays of money, deflated and standardized units of monetary measurement are nearly always better than nominal units.<br>\n",
    "        - The number of information-carrying dimensions depicted should not exceed the number of dimensions in the data.<br>\n",
    "        - Graphics must not quote data out of context.<br><br>\n",
    "</ol>"
   ]
  },
  {
   "cell_type": "markdown",
   "metadata": {},
   "source": [
    "### Chapter 3: Sources of graphical integrity and sophistication"
   ]
  },
  {
   "cell_type": "markdown",
   "metadata": {},
   "source": [
    "### Chapter 4: Data-ink and graphical redesign"
   ]
  },
  {
   "cell_type": "markdown",
   "metadata": {},
   "source": [
    "<ol>\n",
    "    <li><strong>To what data graphics should draw the viewer's attention?</strong></li>\n",
    "        To the sense and substance of the data, not to something else.<br><br>\n",
    "    <li><strong>What is the fundamental principle of good statistical graphics?</strong></li>\n",
    "        Above all else show the data.<br><br>\n",
    "    <li><strong>What it means maximize the data-ink ratio, within reason?</strong></li>\n",
    "        The larger the share of a graphic's ink devoted to data, the better.<br><br>\n",
    "    <li><strong>What are the two erasing principles?</strong></li>\n",
    "        Erase non-data-ink, and erase redundant data-ink, within reason.<br><br>\n",
    "    <li><strong>What thing generate redundant data-ink?</strong></li>\n",
    "        Gratuituous decoration, reinforcement of the data measures, bilateral symmetry of data measures.<br><br>\n",
    "    <li><strong>Why bilateral symmetry generated redundant data-ink?</strong></li>\n",
    "        Because it doubles the space consumed by the design in a graphic, without adding new information.<br><br>\n",
    "    <li><strong>What are the uses of redundancy?</strong></li>\n",
    "        Giving a context and order to complexity, facilitating comparisons over various parts of the data, creating an aesthetic balance. <br><br>\n",
    "    <li><strong>What are the five principles in the theory of data graphics produce substantial changes in graphical design?</strong></li>\n",
    "        - Above all else show the data.<br>\n",
    "        - Maximize the data-ink ratio.<br>\n",
    "        - Erase non-data-ink.<br>\n",
    "        - Erase redundant data-ink.<br>\n",
    "        - Revise and edit.<br><br>\n",
    "</ol>"
   ]
  },
  {
   "cell_type": "markdown",
   "metadata": {},
   "source": [
    "### Chapter 5: Chartjunk: Vibrations, grids, and ducks"
   ]
  },
  {
   "cell_type": "code",
   "execution_count": null,
   "metadata": {},
   "outputs": [],
   "source": []
  }
 ],
 "metadata": {
  "kernelspec": {
   "display_name": "Python 3",
   "language": "python",
   "name": "python3"
  },
  "language_info": {
   "codemirror_mode": {
    "name": "ipython",
    "version": 3
   },
   "file_extension": ".py",
   "mimetype": "text/x-python",
   "name": "python",
   "nbconvert_exporter": "python",
   "pygments_lexer": "ipython3",
   "version": "3.6.5"
  }
 },
 "nbformat": 4,
 "nbformat_minor": 4
}
