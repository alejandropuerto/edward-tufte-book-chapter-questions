{
 "cells": [
  {
   "cell_type": "markdown",
   "metadata": {},
   "source": [
    "# The visual display of quantitative information\n",
    "## by Edward Tufte"
   ]
  },
  {
   "cell_type": "markdown",
   "metadata": {},
   "source": [
    "### Chapter 1: Graphical Excellence"
   ]
  },
  {
   "cell_type": "markdown",
   "metadata": {},
   "source": [
    "<ol>\n",
    "    <li><strong>In statistical graphics, what excellence consists of?</strong></li>\n",
    "        Consists of complex ideas communicated with clarity, precision, and efficiency.<br><br>\n",
    "    <li><strong>Mention two things that a graphical display should do:</strong></li>\n",
    "        - show the data.<br>\n",
    "        - induce the viewer to think the susbtance rather than about methodology, graphic design or something else<br>\n",
    "        - avoid distorting what the data have to say<br>\n",
    "        - present many numbers in a small space<br>\n",
    "        - make large data sets coherent<br>\n",
    "        - encourage the eye to compare different pieces of data<br>\n",
    "        - reveal the data at several levels of detail, from a broad overview to the fine structure<br>\n",
    "        - serve a reasonably clear purpose: description, exploration, tabulation, or decoration<br>\n",
    "        - be closely integrated with the statistical and verbal descriptions of a data set<br><br>\n",
    "    <li><strong>What are the fundamental graphical designs?</strong></li>\n",
    "        - data maps<br>\n",
    "        - time-series<br>\n",
    "        - space-time narrative designs<br>\n",
    "        - relational graphics<br><br>\n",
    "    <li><strong>Which are the most extensive data maps that display statistical information in a powerful way?</strong></li>\n",
    "        The cancer atlas, and the count of the galaxies.<br><br>\n",
    "    <li><strong>What gives the natural ordering of the time scale to the design of the time-series plot?</strong></li>\n",
    "        A strength and efficiency of interpretation found in no other graphic arrangement.<br><br>\n",
    "    <li><strong>For what is best the time-series plot?</strong></li>\n",
    "        For big data sets with real variability.<br><br>\n",
    "    <li><strong>What is the problem with time-series?</strong></li>\n",
    "        That the simple passage of time is not a good explanaroty variable.<br><br>\n",
    "    <li><strong>What is the solution to the problem of time series?</strong></li>\n",
    "        The addition of more variables, such as spatial dimensions, into the graphic design.<br><br>\n",
    "    <li><strong>What is graphical excellence?</strong></li>\n",
    "        It is the well-designed presentation of interesting data - a matter of substance, of statistics, and of design.<br><br>\n",
    "</ol>"
   ]
  },
  {
   "cell_type": "markdown",
   "metadata": {},
   "source": [
    "### Chapter 2: Graphical Integrity"
   ]
  },
  {
   "cell_type": "markdown",
   "metadata": {},
   "source": [
    "<ol>\n",
    "    <li><strong>How a graphic does not distort?</strong></li>\n",
    "        When the visual representation of the data is consistent with the numerical representation.<br><br>\n",
    "    <li><strong>When do tables outperform graphics?</strong></li>\n",
    "        When reporting on small data sets of 20 numbers or less.<br><br>\n",
    "    <li><strong>How is measured the violation of the first principle that leads to graphic misrepresentation?</strong></li>\n",
    "        It is measured by the Lie Factor, which is the size of effect shown in graphic divided by the size of effect in data.<br><br>\n",
    "    <li><strong>What is the recommendation about the numbers of dimensions?</strong></li>\n",
    "        That the number of variable dimensions that wants to be presented should not exceed the number of dimensions in the data.<br><br>\n",
    "    <li><strong>Mention two of the six principles that enhace graphical integrity:</strong></li>\n",
    "        - The representation of numbers should be directly proportional to the numerical quantities represented.<br>\n",
    "        - Clear, detailed, and thorough labeling should be used to defeat graphical distortion and ambiguity. Write out explanations of the data on the graphic itself. Label important events in the data.<br>\n",
    "        - Show data variation, not design variation.<br>\n",
    "        - In time-series displays of money, deflated and standardized units of monetary measurement are nearly always better than nominal units.<br>\n",
    "        - The number of information-carrying dimensions depicted should not exceed the number of dimensions in the data.<br>\n",
    "        - Graphics must not quote data out of context.<br><br>\n",
    "</ol>"
   ]
  },
  {
   "cell_type": "markdown",
   "metadata": {},
   "source": [
    "### Chapter 3: Sources of graphical integrity and sophistication"
   ]
  },
  {
   "cell_type": "markdown",
   "metadata": {},
   "source": [
    "<ol>\n",
    "    <li><strong>What are the primary causes of inept graphical work?</strong></li>\n",
    "    Lack of quantitative skills of professional artists, people think that statistical data are boring, and people think that graphics are only for the unsophisticated reader.<br><br>\n",
    "    <li><strong>What are the consequences of mediocre graphical work?</strong></li>\n",
    "    Over-decorated and simplistic designs, tiny data sets, and big lies.<br><br>\n",
    "    <li><strong>How can we achieve graphical sophistication?</strong></li>\n",
    "    By using relational graphics.<br><br>\n",
    "    <li><strong>Why relational graphics are essential to competent statistical analysis?</strong></li>\n",
    "    Because they confront statements about cause and effect with evidence, showing how one variable affects another.<br><br>\n",
    "    <li><strong>What are the skills that graphical competence demand?</strong></li>\n",
    "    Substantive skills, statistical skills, and artistic skills.<br><br>\n",
    "</ol>"
   ]
  },
  {
   "cell_type": "markdown",
   "metadata": {},
   "source": [
    "### Chapter 4: Data-ink and graphical redesign"
   ]
  },
  {
   "cell_type": "markdown",
   "metadata": {},
   "source": [
    "<ol>\n",
    "    <li><strong>To what data graphics should draw the viewer's attention?</strong></li>\n",
    "        To the sense and substance of the data, not to something else.<br><br>\n",
    "    <li><strong>What is the fundamental principle of good statistical graphics?</strong></li>\n",
    "        Above all else show the data.<br><br>\n",
    "    <li><strong>What it means maximize the data-ink ratio, within reason?</strong></li>\n",
    "        The larger the share of a graphic's ink devoted to data, the better.<br><br>\n",
    "    <li><strong>What are the two erasing principles?</strong></li>\n",
    "        Erase non-data-ink, and erase redundant data-ink, within reason.<br><br>\n",
    "    <li><strong>What thing generate redundant data-ink?</strong></li>\n",
    "        Gratuituous decoration, reinforcement of the data measures, bilateral symmetry of data measures.<br><br>\n",
    "    <li><strong>Why bilateral symmetry generated redundant data-ink?</strong></li>\n",
    "        Because it doubles the space consumed by the design in a graphic, without adding new information.<br><br>\n",
    "    <li><strong>What are the uses of redundancy?</strong></li>\n",
    "        Giving a context and order to complexity, facilitating comparisons over various parts of the data, creating an aesthetic balance. <br><br>\n",
    "    <li><strong>What are the five principles in the theory of data graphics produce substantial changes in graphical design?</strong></li>\n",
    "        - Above all else show the data.<br>\n",
    "        - Maximize the data-ink ratio.<br>\n",
    "        - Erase non-data-ink.<br>\n",
    "        - Erase redundant data-ink.<br>\n",
    "        - Revise and edit.<br><br>\n",
    "</ol>"
   ]
  },
  {
   "cell_type": "markdown",
   "metadata": {},
   "source": [
    "### Chapter 5: Chartjunk: Vibrations, grids, and ducks"
   ]
  },
  {
   "cell_type": "markdown",
   "metadata": {},
   "source": [
    "<ol>\n",
    "    <li><strong>What are some of the purposes of decoration?</strong></li>\n",
    "        - To make the graphic appear more scientific and precise.<br>\n",
    "        - To enliven the display.<br>\n",
    "        - To give the designer an opportunity to exercise artistic skills. <br><br>\n",
    "    <li><strong>What are the three types of chartjunk?</strong></li>\n",
    "        - Unintentional optical art.<br>\n",
    "        - The dreaded grid.<br>\n",
    "        - The self-promoting graphical duck.<br><br>\n",
    "    <li><strong>On what relies the contemporary optical art?</strong></li>\n",
    "        It relies on moiré effects, in which the design interacts with the physiological tremor of the eye to produce the distracting apperance of vibration and movement.<br><br>\n",
    "    <li><strong>What should we do with grids?</strong></li>\n",
    "        The grid should usually be muted or completely suppressed so that its presence is only implicit, unless it compete with the data.<br><br>\n",
    "    <li><strong>How do we deal with grids in a correct way?</strong></li>\n",
    "        The grid should be muted relative to the data, this can be done by using a gray grid with a delicated line.<br><br>\n",
    "    <li><strong>When can we call the graphic a duck?</strong></li>\n",
    "        - When a graphic is taken over by decorative forms or computer debris.<br>\n",
    "        - When the data measures and structures become Design Elements.<br>\n",
    "        - When the overall design purveys Graphical Style rather than quantitative information.<br><br>\n",
    "</ol>"
   ]
  },
  {
   "cell_type": "markdown",
   "metadata": {},
   "source": [
    "### Chapter 6: Data-ink maximization and graphical design"
   ]
  },
  {
   "cell_type": "markdown",
   "metadata": {},
   "source": [
    "<ol>\n",
    "    <li><strong>In what rests the choice of the best overall arrangement design of a plot?</strong></li>\n",
    "    It rests on statistical and aesthetic criteria.<br><br>\n",
    "    <li><strong>What is relevant for the use of parallel schematic plot designs in informal, explanatory data analysis?</strong></li>\n",
    "    The large reduction in the amount of drawing because the research worker's time should be devoted to matters other than drawing lines.<br><br>\n",
    "    <li><strong>What are the most common techniques for erasing and data-ink maximizing?</strong></li>\n",
    "    No frame, no vertical axis, no ticks, and the white grid.<br><br>\n",
    "    <li><strong>As going through what do graphics are almost always going to improve?</strong></li>\n",
    "    As they go through editing, revision, and testing against different design options.<br><br>\n",
    "    <li><strong>What generate the principles of maximizing data-ink and erasing?</strong></li>\n",
    "    They generate graphical alternatives and also suggest a direction in which revisions should move.<br><br>\n",
    "</ol>"
   ]
  },
  {
   "cell_type": "markdown",
   "metadata": {},
   "source": [
    "### Chapter 7: Multifunctioning Graphical Elements"
   ]
  },
  {
   "cell_type": "markdown",
   "metadata": {},
   "source": [
    "### Chapter 8: Data density and small multiples"
   ]
  },
  {
   "cell_type": "code",
   "execution_count": null,
   "metadata": {},
   "outputs": [],
   "source": []
  }
 ],
 "metadata": {
  "kernelspec": {
   "display_name": "Python 3",
   "language": "python",
   "name": "python3"
  },
  "language_info": {
   "codemirror_mode": {
    "name": "ipython",
    "version": 3
   },
   "file_extension": ".py",
   "mimetype": "text/x-python",
   "name": "python",
   "nbconvert_exporter": "python",
   "pygments_lexer": "ipython3",
   "version": "3.6.5"
  }
 },
 "nbformat": 4,
 "nbformat_minor": 4
}
