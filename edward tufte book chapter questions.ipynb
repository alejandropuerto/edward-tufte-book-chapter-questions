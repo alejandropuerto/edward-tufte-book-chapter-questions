{
 "cells": [
  {
   "cell_type": "markdown",
   "metadata": {},
   "source": [
    "# The visual display of quantitative information\n",
    "## by Edward Tufte"
   ]
  },
  {
   "cell_type": "markdown",
   "metadata": {},
   "source": [
    "### Chapter 1: Graphical Excellence"
   ]
  },
  {
   "cell_type": "markdown",
   "metadata": {},
   "source": [
    "<ol>\n",
    "    <li><strong>In statistical graphics, what excellence consists of?</strong></li>\n",
    "        Consists of complex ideas communicated with clarity, precision, and efficiency.<br><br>\n",
    "    <li><strong>Mention two things that a graphical display should do:</strong></li>\n",
    "        - show the data.<br>\n",
    "        - induce the viewer to think the susbtance rather than about methodology, graphic design or something else<br>\n",
    "        - avoid distorting what the data have to say<br>\n",
    "        - present many numbers in a small space<br>\n",
    "        - make large data sets coherent<br>\n",
    "        - encourage the eye to compare different pieces of data<br>\n",
    "        - reveal the data at several levels of detail, from a broad overview to the fine structure<br>\n",
    "        - serve a reasonably clear purpose: description, exploration, tabulation, or decoration<br>\n",
    "        - be closely integrated with the statistical and verbal descriptions of a data set<br><br>\n",
    "    <li><strong>What are the fundamental graphical designs?</strong></li>\n",
    "        - data maps<br>\n",
    "        - time-series<br>\n",
    "        - space-time narrative designs<br>\n",
    "        - relational graphics<br><br>\n",
    "    <li><strong>Which are the most extensive data maps that display statistical information in a powerful way?</strong></li>\n",
    "        The cancer atlas, and the count of the galaxies.<br><br>\n",
    "    <li><strong>What gives the natural ordering of the time scale to the design of the time-series plot?</strong></li>\n",
    "        A strength and efficiency of interpretation found in no other graphic arrangement.<br><br>\n",
    "    <li><strong>For what is best the time-series plot?</strong></li>\n",
    "        For big data sets with real variability.<br><br>\n",
    "    <li><strong>What is the problem with time-series?</strong></li>\n",
    "        That the simple passage of time is not a good explanaroty variable.<br><br>\n",
    "    <li><strong>What is the solution to the problem of time series?</strong></li>\n",
    "        The addition of more variables, such as spatial dimensions, into the graphic design.<br><br>\n",
    "    <li><strong>What is graphical excellence?</strong></li>\n",
    "        It is the well-designed presentation of interesting data - a matter of substance, of statistics, and of design.<br><br>\n",
    "</ol>"
   ]
  },
  {
   "cell_type": "code",
   "execution_count": null,
   "metadata": {},
   "outputs": [],
   "source": []
  }
 ],
 "metadata": {
  "kernelspec": {
   "display_name": "Python 3",
   "language": "python",
   "name": "python3"
  },
  "language_info": {
   "codemirror_mode": {
    "name": "ipython",
    "version": 3
   },
   "file_extension": ".py",
   "mimetype": "text/x-python",
   "name": "python",
   "nbconvert_exporter": "python",
   "pygments_lexer": "ipython3",
   "version": "3.6.5"
  }
 },
 "nbformat": 4,
 "nbformat_minor": 4
}
